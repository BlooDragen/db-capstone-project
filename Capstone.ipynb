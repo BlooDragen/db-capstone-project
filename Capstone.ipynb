{
 "cells": [
  {
   "cell_type": "code",
   "execution_count": 1,
   "id": "5602fed4-7a28-4e2c-8c0f-0bdc58df4a29",
   "metadata": {},
   "outputs": [],
   "source": [
    "import mysql.connector as connector\n",
    "\n",
    "connection = connector.connect(user = \"baseUser\", password = \"basePassword\", db = \"mydb\")\n",
    "\n",
    "cursor = connection.cursor()"
   ]
  },
  {
   "cell_type": "code",
   "execution_count": 2,
   "id": "04821203-8988-448a-8e5b-3cf1c67da692",
   "metadata": {},
   "outputs": [
    {
     "name": "stdout",
     "output_type": "stream",
     "text": [
      "[('bookings',), ('costview',), ('customers',), ('deliverystatus',), ('items',), ('menus',), ('morethantwo',), ('orders',), ('ordersview',), ('staff',)]\n"
     ]
    }
   ],
   "source": [
    "show_tables_query = \"SHOW tables\" \n",
    "cursor.execute(show_tables_query)\n",
    "\n",
    "results=cursor.fetchall()\n",
    "print(results)"
   ]
  },
  {
   "cell_type": "code",
   "execution_count": 3,
   "id": "f3f1c6b4-05a4-443e-86f8-541f3395b7bc",
   "metadata": {},
   "outputs": [
    {
     "name": "stdout",
     "output_type": "stream",
     "text": [
      "[]\n"
     ]
    }
   ],
   "source": [
    "task3Query=\"\"\"\n",
    "SELECT\n",
    "CONCAT(Customers.FirstName, ' ', Customers.LastName) AS FullName,\n",
    "Customers.PhoneNumber,\n",
    "Orders.TotalCost\n",
    "FROM Customers\n",
    "INNER JOIN \n",
    "Orders ON Customers.CustomerID=Orders.CustomerID\n",
    "WHERE Orders.TotalCost>60\n",
    "\"\"\"\n",
    "\n",
    "cursor.execute(task3Query)\n",
    "results=cursor.fetchall()\n",
    "print(results)"
   ]
  },
  {
   "cell_type": "code",
   "execution_count": null,
   "id": "e2622c35-4905-4b68-afc9-772d852efb63",
   "metadata": {},
   "outputs": [],
   "source": []
  }
 ],
 "metadata": {
  "kernelspec": {
   "display_name": "Python 3 (ipykernel)",
   "language": "python",
   "name": "python3"
  },
  "language_info": {
   "codemirror_mode": {
    "name": "ipython",
    "version": 3
   },
   "file_extension": ".py",
   "mimetype": "text/x-python",
   "name": "python",
   "nbconvert_exporter": "python",
   "pygments_lexer": "ipython3",
   "version": "3.10.11"
  }
 },
 "nbformat": 4,
 "nbformat_minor": 5
}
